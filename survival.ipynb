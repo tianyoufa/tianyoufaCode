{
 "cells": [
  {
   "cell_type": "code",
   "execution_count": 1,
   "metadata": {},
   "outputs": [],
   "source": [
    "# 导入包\n",
    "import numpy as np\n",
    "import pandas as pd"
   ]
  },
  {
   "cell_type": "code",
   "execution_count": null,
   "metadata": {},
   "outputs": [],
   "source": []
  },
  {
   "cell_type": "code",
   "execution_count": 77,
   "metadata": {},
   "outputs": [
    {
     "name": "stdout",
     "output_type": "stream",
     "text": [
      "(299, 6)\n",
      "(348, 6)\n",
      "(414, 21)\n"
     ]
    }
   ],
   "source": [
    "# 读取数据文件\n",
    "down = pd.read_csv('E:/cancerPrognosis/MyLUAD/code/processing/limma/diffdown.txt', sep=\"\\t\")\n",
    "print(down.shape)\n",
    "up = pd.read_csv('E:/cancerPrognosis/MyLUAD/code/processing/limma/diffup.txt', sep=\"\\t\")\n",
    "print(up.shape)\n",
    "lasso = pd.read_csv('E:/cancerPrognosis/MyLUAD/code/processing/lasso/lassoExp.txt', sep=\"\\t\")\n",
    "print(lasso.shape)"
   ]
  },
  {
   "cell_type": "code",
   "execution_count": 78,
   "metadata": {},
   "outputs": [],
   "source": [
    "# 获取基因名\n",
    "downName = down.index.tolist()\n",
    "upName = up.index.tolist()\n",
    "lassoName = lasso.columns.tolist()[3:-1]"
   ]
  },
  {
   "cell_type": "code",
   "execution_count": 79,
   "metadata": {},
   "outputs": [],
   "source": [
    "# 求取交集\n",
    "downGene = list(set(lassoName).intersection(set(downName)))\n",
    "upGene = downGene = list(set(lassoName).intersection(set(upName)))"
   ]
  },
  {
   "cell_type": "code",
   "execution_count": 80,
   "metadata": {},
   "outputs": [
    {
     "data": {
      "text/plain": [
       "(414, 9)"
      ]
     },
     "execution_count": 80,
     "metadata": {},
     "output_type": "execute_result"
    }
   ],
   "source": [
    "name = ['time','status','stage']\n",
    "downGene = list(set(lassoName).intersection(set(downName)))\n",
    "downGene = name + downGene\n",
    "downExp = lasso[downGene]\n",
    "downExp.shape"
   ]
  },
  {
   "cell_type": "code",
   "execution_count": 81,
   "metadata": {},
   "outputs": [
    {
     "data": {
      "text/html": [
       "<div>\n",
       "<style scoped>\n",
       "    .dataframe tbody tr th:only-of-type {\n",
       "        vertical-align: middle;\n",
       "    }\n",
       "\n",
       "    .dataframe tbody tr th {\n",
       "        vertical-align: top;\n",
       "    }\n",
       "\n",
       "    .dataframe thead th {\n",
       "        text-align: right;\n",
       "    }\n",
       "</style>\n",
       "<table border=\"1\" class=\"dataframe\">\n",
       "  <thead>\n",
       "    <tr style=\"text-align: right;\">\n",
       "      <th></th>\n",
       "      <th>time</th>\n",
       "      <th>status</th>\n",
       "      <th>stage</th>\n",
       "      <th>ADRB2</th>\n",
       "      <th>AGER</th>\n",
       "      <th>RPL13AP17</th>\n",
       "      <th>WNT7A</th>\n",
       "      <th>GRIA1</th>\n",
       "      <th>GSTA3</th>\n",
       "    </tr>\n",
       "  </thead>\n",
       "  <tbody>\n",
       "    <tr>\n",
       "      <th>TCGA-78-8655-01A-11R-2403-07</th>\n",
       "      <td>2360</td>\n",
       "      <td>0</td>\n",
       "      <td>I</td>\n",
       "      <td>4.574711</td>\n",
       "      <td>8.403352</td>\n",
       "      <td>2.833213</td>\n",
       "      <td>4.143135</td>\n",
       "      <td>3.806662</td>\n",
       "      <td>0.693147</td>\n",
       "    </tr>\n",
       "    <tr>\n",
       "      <th>TCGA-91-6829-01A-21R-1858-07</th>\n",
       "      <td>1258</td>\n",
       "      <td>1</td>\n",
       "      <td>I</td>\n",
       "      <td>5.459586</td>\n",
       "      <td>6.896694</td>\n",
       "      <td>0.693147</td>\n",
       "      <td>3.433987</td>\n",
       "      <td>3.295837</td>\n",
       "      <td>0.693147</td>\n",
       "    </tr>\n",
       "    <tr>\n",
       "      <th>TCGA-86-8672-01A-21R-2403-07</th>\n",
       "      <td>34</td>\n",
       "      <td>1</td>\n",
       "      <td>II</td>\n",
       "      <td>3.332205</td>\n",
       "      <td>5.476464</td>\n",
       "      <td>0.000000</td>\n",
       "      <td>3.610918</td>\n",
       "      <td>0.000000</td>\n",
       "      <td>0.000000</td>\n",
       "    </tr>\n",
       "    <tr>\n",
       "      <th>TCGA-62-8398-01A-11R-2326-07</th>\n",
       "      <td>444</td>\n",
       "      <td>1</td>\n",
       "      <td>III</td>\n",
       "      <td>4.672829</td>\n",
       "      <td>6.133398</td>\n",
       "      <td>2.079442</td>\n",
       "      <td>2.397895</td>\n",
       "      <td>2.197225</td>\n",
       "      <td>0.000000</td>\n",
       "    </tr>\n",
       "    <tr>\n",
       "      <th>TCGA-50-8459-01A-11R-2326-07</th>\n",
       "      <td>1119</td>\n",
       "      <td>0</td>\n",
       "      <td>II</td>\n",
       "      <td>4.653960</td>\n",
       "      <td>6.216606</td>\n",
       "      <td>2.302585</td>\n",
       "      <td>6.932448</td>\n",
       "      <td>2.639057</td>\n",
       "      <td>2.890372</td>\n",
       "    </tr>\n",
       "  </tbody>\n",
       "</table>\n",
       "</div>"
      ],
      "text/plain": [
       "                              time  status stage     ADRB2      AGER  \\\n",
       "TCGA-78-8655-01A-11R-2403-07  2360       0     I  4.574711  8.403352   \n",
       "TCGA-91-6829-01A-21R-1858-07  1258       1     I  5.459586  6.896694   \n",
       "TCGA-86-8672-01A-21R-2403-07    34       1    II  3.332205  5.476464   \n",
       "TCGA-62-8398-01A-11R-2326-07   444       1   III  4.672829  6.133398   \n",
       "TCGA-50-8459-01A-11R-2326-07  1119       0    II  4.653960  6.216606   \n",
       "\n",
       "                              RPL13AP17     WNT7A     GRIA1     GSTA3  \n",
       "TCGA-78-8655-01A-11R-2403-07   2.833213  4.143135  3.806662  0.693147  \n",
       "TCGA-91-6829-01A-21R-1858-07   0.693147  3.433987  3.295837  0.693147  \n",
       "TCGA-86-8672-01A-21R-2403-07   0.000000  3.610918  0.000000  0.000000  \n",
       "TCGA-62-8398-01A-11R-2326-07   2.079442  2.397895  2.197225  0.000000  \n",
       "TCGA-50-8459-01A-11R-2326-07   2.302585  6.932448  2.639057  2.890372  "
      ]
     },
     "execution_count": 81,
     "metadata": {},
     "output_type": "execute_result"
    }
   ],
   "source": [
    "downExp.head()"
   ]
  },
  {
   "cell_type": "code",
   "execution_count": 82,
   "metadata": {},
   "outputs": [
    {
     "data": {
      "text/plain": [
       "(414, 14)"
      ]
     },
     "execution_count": 82,
     "metadata": {},
     "output_type": "execute_result"
    }
   ],
   "source": [
    "name = ['time','status','stage']\n",
    "upGene = list(set(lassoName).intersection(set(upName)))\n",
    "upGene = name + upGene\n",
    "upExp = lasso[upGene]\n",
    "upExp.shape"
   ]
  },
  {
   "cell_type": "code",
   "execution_count": 83,
   "metadata": {},
   "outputs": [
    {
     "data": {
      "text/html": [
       "<div>\n",
       "<style scoped>\n",
       "    .dataframe tbody tr th:only-of-type {\n",
       "        vertical-align: middle;\n",
       "    }\n",
       "\n",
       "    .dataframe tbody tr th {\n",
       "        vertical-align: top;\n",
       "    }\n",
       "\n",
       "    .dataframe thead th {\n",
       "        text-align: right;\n",
       "    }\n",
       "</style>\n",
       "<table border=\"1\" class=\"dataframe\">\n",
       "  <thead>\n",
       "    <tr style=\"text-align: right;\">\n",
       "      <th></th>\n",
       "      <th>time</th>\n",
       "      <th>status</th>\n",
       "      <th>stage</th>\n",
       "      <th>TFAP2A</th>\n",
       "      <th>SIX1</th>\n",
       "      <th>KIF14</th>\n",
       "      <th>FAM83A</th>\n",
       "      <th>S100P</th>\n",
       "      <th>RHOV</th>\n",
       "      <th>AC025580.1</th>\n",
       "      <th>PCP4</th>\n",
       "      <th>PTPRH</th>\n",
       "      <th>COL1A1</th>\n",
       "      <th>TNFSF11</th>\n",
       "    </tr>\n",
       "  </thead>\n",
       "  <tbody>\n",
       "    <tr>\n",
       "      <th>TCGA-78-8655-01A-11R-2403-07</th>\n",
       "      <td>2360</td>\n",
       "      <td>0</td>\n",
       "      <td>I</td>\n",
       "      <td>7.451242</td>\n",
       "      <td>8.620472</td>\n",
       "      <td>5.081404</td>\n",
       "      <td>8.174703</td>\n",
       "      <td>7.649216</td>\n",
       "      <td>8.331345</td>\n",
       "      <td>3.178054</td>\n",
       "      <td>3.401197</td>\n",
       "      <td>5.624018</td>\n",
       "      <td>12.400973</td>\n",
       "      <td>2.708050</td>\n",
       "    </tr>\n",
       "    <tr>\n",
       "      <th>TCGA-91-6829-01A-21R-1858-07</th>\n",
       "      <td>1258</td>\n",
       "      <td>1</td>\n",
       "      <td>I</td>\n",
       "      <td>6.188264</td>\n",
       "      <td>6.919684</td>\n",
       "      <td>6.614726</td>\n",
       "      <td>7.333676</td>\n",
       "      <td>4.025352</td>\n",
       "      <td>3.295837</td>\n",
       "      <td>6.030685</td>\n",
       "      <td>7.759187</td>\n",
       "      <td>3.891820</td>\n",
       "      <td>13.200037</td>\n",
       "      <td>4.025352</td>\n",
       "    </tr>\n",
       "    <tr>\n",
       "      <th>TCGA-86-8672-01A-21R-2403-07</th>\n",
       "      <td>34</td>\n",
       "      <td>1</td>\n",
       "      <td>II</td>\n",
       "      <td>6.369901</td>\n",
       "      <td>5.318120</td>\n",
       "      <td>5.924256</td>\n",
       "      <td>9.373224</td>\n",
       "      <td>9.863238</td>\n",
       "      <td>7.300473</td>\n",
       "      <td>3.713572</td>\n",
       "      <td>3.091042</td>\n",
       "      <td>5.720312</td>\n",
       "      <td>11.988495</td>\n",
       "      <td>2.772589</td>\n",
       "    </tr>\n",
       "    <tr>\n",
       "      <th>TCGA-62-8398-01A-11R-2326-07</th>\n",
       "      <td>444</td>\n",
       "      <td>1</td>\n",
       "      <td>III</td>\n",
       "      <td>6.297109</td>\n",
       "      <td>6.848005</td>\n",
       "      <td>7.130899</td>\n",
       "      <td>10.061943</td>\n",
       "      <td>10.560023</td>\n",
       "      <td>7.642524</td>\n",
       "      <td>4.762174</td>\n",
       "      <td>2.197225</td>\n",
       "      <td>8.263075</td>\n",
       "      <td>12.449340</td>\n",
       "      <td>6.977281</td>\n",
       "    </tr>\n",
       "    <tr>\n",
       "      <th>TCGA-50-8459-01A-11R-2326-07</th>\n",
       "      <td>1119</td>\n",
       "      <td>0</td>\n",
       "      <td>II</td>\n",
       "      <td>5.866468</td>\n",
       "      <td>5.655992</td>\n",
       "      <td>4.820282</td>\n",
       "      <td>7.629490</td>\n",
       "      <td>7.997663</td>\n",
       "      <td>6.338594</td>\n",
       "      <td>4.025352</td>\n",
       "      <td>3.850148</td>\n",
       "      <td>6.424869</td>\n",
       "      <td>13.956932</td>\n",
       "      <td>5.789960</td>\n",
       "    </tr>\n",
       "  </tbody>\n",
       "</table>\n",
       "</div>"
      ],
      "text/plain": [
       "                              time  status stage    TFAP2A      SIX1  \\\n",
       "TCGA-78-8655-01A-11R-2403-07  2360       0     I  7.451242  8.620472   \n",
       "TCGA-91-6829-01A-21R-1858-07  1258       1     I  6.188264  6.919684   \n",
       "TCGA-86-8672-01A-21R-2403-07    34       1    II  6.369901  5.318120   \n",
       "TCGA-62-8398-01A-11R-2326-07   444       1   III  6.297109  6.848005   \n",
       "TCGA-50-8459-01A-11R-2326-07  1119       0    II  5.866468  5.655992   \n",
       "\n",
       "                                 KIF14     FAM83A      S100P      RHOV  \\\n",
       "TCGA-78-8655-01A-11R-2403-07  5.081404   8.174703   7.649216  8.331345   \n",
       "TCGA-91-6829-01A-21R-1858-07  6.614726   7.333676   4.025352  3.295837   \n",
       "TCGA-86-8672-01A-21R-2403-07  5.924256   9.373224   9.863238  7.300473   \n",
       "TCGA-62-8398-01A-11R-2326-07  7.130899  10.061943  10.560023  7.642524   \n",
       "TCGA-50-8459-01A-11R-2326-07  4.820282   7.629490   7.997663  6.338594   \n",
       "\n",
       "                              AC025580.1      PCP4     PTPRH     COL1A1  \\\n",
       "TCGA-78-8655-01A-11R-2403-07    3.178054  3.401197  5.624018  12.400973   \n",
       "TCGA-91-6829-01A-21R-1858-07    6.030685  7.759187  3.891820  13.200037   \n",
       "TCGA-86-8672-01A-21R-2403-07    3.713572  3.091042  5.720312  11.988495   \n",
       "TCGA-62-8398-01A-11R-2326-07    4.762174  2.197225  8.263075  12.449340   \n",
       "TCGA-50-8459-01A-11R-2326-07    4.025352  3.850148  6.424869  13.956932   \n",
       "\n",
       "                               TNFSF11  \n",
       "TCGA-78-8655-01A-11R-2403-07  2.708050  \n",
       "TCGA-91-6829-01A-21R-1858-07  4.025352  \n",
       "TCGA-86-8672-01A-21R-2403-07  2.772589  \n",
       "TCGA-62-8398-01A-11R-2326-07  6.977281  \n",
       "TCGA-50-8459-01A-11R-2326-07  5.789960  "
      ]
     },
     "execution_count": 83,
     "metadata": {},
     "output_type": "execute_result"
    }
   ],
   "source": [
    "upExp.head()"
   ]
  },
  {
   "cell_type": "code",
   "execution_count": 84,
   "metadata": {},
   "outputs": [],
   "source": [
    "# 存储文件\n",
    "downExp.to_csv('E:/cancerPrognosis/MyLUAD/code/processing/survival/downExp.txt', sep='\\t', header=True, index=True)\n",
    "upExp.to_csv('E:/cancerPrognosis/MyLUAD/code/processing/survival/upExp.txt', sep='\\t', header=True, index=True)"
   ]
  },
  {
   "cell_type": "code",
   "execution_count": null,
   "metadata": {},
   "outputs": [],
   "source": []
  },
  {
   "cell_type": "code",
   "execution_count": null,
   "metadata": {},
   "outputs": [],
   "source": []
  },
  {
   "cell_type": "code",
   "execution_count": 18,
   "metadata": {},
   "outputs": [
    {
     "name": "stdout",
     "output_type": "stream",
     "text": [
      "行列信息 (414, 21)\n"
     ]
    }
   ],
   "source": [
    "# 整合绘制箱线图的文件\n",
    "# 原始数据读入\n",
    "lassoExp = pd.read_csv('E:/cancerPrognosis/MyLUAD/code/processing/lasso/lassoExp.txt', sep=\"\\t\")\n",
    "print(\"行列信息\",lassoExp.shape)"
   ]
  },
  {
   "cell_type": "code",
   "execution_count": null,
   "metadata": {},
   "outputs": [],
   "source": []
  },
  {
   "cell_type": "code",
   "execution_count": 31,
   "metadata": {},
   "outputs": [],
   "source": [
    "# 上调基因 KIF14、FAM83A、S100P\n",
    "up = []\n",
    "KIF14 = lassoExp['KIF14'].tolist()\n",
    "KIF14 = sorted(KIF14)\n",
    "KIF14_LOW = KIF14[0:207]\n",
    "KIF14_HIGH = KIF14[207:]\n",
    "up.append(KIF14_LOW)\n",
    "up.append(KIF14_HIGH)\n",
    "\n",
    "FAM83A = lassoExp['FAM83A'].tolist()\n",
    "FAM83A = sorted(FAM83A)\n",
    "FAM83A_LOW = FAM83A[0:207]\n",
    "FAM83A_HIGH = FAM83A[207:]\n",
    "up.append(FAM83A_LOW)\n",
    "up.append(FAM83A_HIGH)\n",
    "\n",
    "S100P = lassoExp['S100P'].tolist()\n",
    "S100P = sorted(S100P)\n",
    "S100P_LOW = S100P[0:207]\n",
    "S100P_HIGH = S100P[207:]\n",
    "up.append(S100P_LOW)\n",
    "up.append(S100P_HIGH)"
   ]
  },
  {
   "cell_type": "code",
   "execution_count": 36,
   "metadata": {},
   "outputs": [],
   "source": [
    "nameUp = ['KIF14_LOW', 'KIF14_HIGH', 'FAM83A_LOW', 'FAM83A_HIGH', 'S100P_LOW', 'S100P_HIGH']\n",
    "box = pd.DataFrame(up)\n",
    "boxUP = box.T\n",
    "boxUP.columns = nameUp"
   ]
  },
  {
   "cell_type": "code",
   "execution_count": 43,
   "metadata": {},
   "outputs": [],
   "source": [
    "# 存储文件\n",
    "boxUP.to_csv('E:/cancerPrognosis/MyLUAD/code/processing/survival/boxUP.txt', sep='\\t', header=True, index=True)"
   ]
  },
  {
   "cell_type": "code",
   "execution_count": 37,
   "metadata": {},
   "outputs": [
    {
     "data": {
      "text/plain": [
       "(207, 6)"
      ]
     },
     "execution_count": 37,
     "metadata": {},
     "output_type": "execute_result"
    }
   ],
   "source": [
    "boxUP.shape"
   ]
  },
  {
   "cell_type": "code",
   "execution_count": 38,
   "metadata": {},
   "outputs": [
    {
     "data": {
      "text/html": [
       "<div>\n",
       "<style scoped>\n",
       "    .dataframe tbody tr th:only-of-type {\n",
       "        vertical-align: middle;\n",
       "    }\n",
       "\n",
       "    .dataframe tbody tr th {\n",
       "        vertical-align: top;\n",
       "    }\n",
       "\n",
       "    .dataframe thead th {\n",
       "        text-align: right;\n",
       "    }\n",
       "</style>\n",
       "<table border=\"1\" class=\"dataframe\">\n",
       "  <thead>\n",
       "    <tr style=\"text-align: right;\">\n",
       "      <th></th>\n",
       "      <th>KIF14_LOW</th>\n",
       "      <th>KIF14_HIGH</th>\n",
       "      <th>FAM83A_LOW</th>\n",
       "      <th>FAM83A_HIGH</th>\n",
       "      <th>S100P_LOW</th>\n",
       "      <th>S100P_HIGH</th>\n",
       "    </tr>\n",
       "  </thead>\n",
       "  <tbody>\n",
       "    <tr>\n",
       "      <th>0</th>\n",
       "      <td>2.639057</td>\n",
       "      <td>5.869297</td>\n",
       "      <td>1.945910</td>\n",
       "      <td>8.192294</td>\n",
       "      <td>1.609438</td>\n",
       "      <td>7.898782</td>\n",
       "    </tr>\n",
       "    <tr>\n",
       "      <th>1</th>\n",
       "      <td>2.772589</td>\n",
       "      <td>5.880533</td>\n",
       "      <td>2.197225</td>\n",
       "      <td>8.213653</td>\n",
       "      <td>2.302585</td>\n",
       "      <td>7.905442</td>\n",
       "    </tr>\n",
       "    <tr>\n",
       "      <th>2</th>\n",
       "      <td>2.833213</td>\n",
       "      <td>5.883322</td>\n",
       "      <td>2.302585</td>\n",
       "      <td>8.235891</td>\n",
       "      <td>2.397895</td>\n",
       "      <td>7.908387</td>\n",
       "    </tr>\n",
       "    <tr>\n",
       "      <th>3</th>\n",
       "      <td>2.833213</td>\n",
       "      <td>5.883322</td>\n",
       "      <td>2.708050</td>\n",
       "      <td>8.240649</td>\n",
       "      <td>2.484907</td>\n",
       "      <td>7.936303</td>\n",
       "    </tr>\n",
       "    <tr>\n",
       "      <th>4</th>\n",
       "      <td>3.178054</td>\n",
       "      <td>5.886104</td>\n",
       "      <td>3.135494</td>\n",
       "      <td>8.257126</td>\n",
       "      <td>2.708050</td>\n",
       "      <td>7.948738</td>\n",
       "    </tr>\n",
       "  </tbody>\n",
       "</table>\n",
       "</div>"
      ],
      "text/plain": [
       "   KIF14_LOW  KIF14_HIGH  FAM83A_LOW  FAM83A_HIGH  S100P_LOW  S100P_HIGH\n",
       "0   2.639057    5.869297    1.945910     8.192294   1.609438    7.898782\n",
       "1   2.772589    5.880533    2.197225     8.213653   2.302585    7.905442\n",
       "2   2.833213    5.883322    2.302585     8.235891   2.397895    7.908387\n",
       "3   2.833213    5.883322    2.708050     8.240649   2.484907    7.936303\n",
       "4   3.178054    5.886104    3.135494     8.257126   2.708050    7.948738"
      ]
     },
     "execution_count": 38,
     "metadata": {},
     "output_type": "execute_result"
    }
   ],
   "source": [
    "boxUP.head()"
   ]
  },
  {
   "cell_type": "code",
   "execution_count": null,
   "metadata": {},
   "outputs": [],
   "source": []
  },
  {
   "cell_type": "code",
   "execution_count": 39,
   "metadata": {},
   "outputs": [],
   "source": [
    "# 下调基因 ADRB2、AGER、RPL13AP17、GRIA1\n",
    "down = []\n",
    "ADRB2 = lassoExp['ADRB2'].tolist()\n",
    "ADRB2 = sorted(ADRB2)\n",
    "ADRB2_LOW = ADRB2[207:]\n",
    "ADRB2_HIGH = ADRB2[0:207]\n",
    "down.append(ADRB2_LOW)\n",
    "down.append(ADRB2_HIGH)\n",
    "\n",
    "AGER = lassoExp['AGER'].tolist()\n",
    "AGER = sorted(AGER)\n",
    "AGER_LOW = AGER[207:]\n",
    "AGER_HIGH = AGER[0:207]\n",
    "down.append(AGER_LOW)\n",
    "down.append(AGER_HIGH)\n",
    "\n",
    "RPL13AP17 = lassoExp['RPL13AP17'].tolist()\n",
    "RPL13AP17 = sorted(RPL13AP17)\n",
    "RPL13AP17_LOW = RPL13AP17[207:]\n",
    "RPL13AP17_HIGH = RPL13AP17[0:207]\n",
    "down.append(RPL13AP17_LOW)\n",
    "down.append(RPL13AP17_HIGH)\n",
    "\n",
    "nameDown = ['ADRB2_LOW', 'ADRB2_HIGH', 'AGER_LOW', 'AGER_HIGH', 'RPL13AP17_LOW', 'RPL13AP17_HIGH']\n",
    "box = pd.DataFrame(down)\n",
    "boxDown = box.T\n",
    "boxDown.columns = nameDown"
   ]
  },
  {
   "cell_type": "code",
   "execution_count": 44,
   "metadata": {},
   "outputs": [],
   "source": [
    "# 存储文件\n",
    "boxDown.to_csv('E:/cancerPrognosis/MyLUAD/code/processing/survival/boxDown.txt', sep='\\t', header=True, index=True)"
   ]
  },
  {
   "cell_type": "code",
   "execution_count": 40,
   "metadata": {},
   "outputs": [
    {
     "data": {
      "text/plain": [
       "(207, 6)"
      ]
     },
     "execution_count": 40,
     "metadata": {},
     "output_type": "execute_result"
    }
   ],
   "source": [
    "boxDown.shape"
   ]
  },
  {
   "cell_type": "code",
   "execution_count": 41,
   "metadata": {},
   "outputs": [
    {
     "data": {
      "text/html": [
       "<div>\n",
       "<style scoped>\n",
       "    .dataframe tbody tr th:only-of-type {\n",
       "        vertical-align: middle;\n",
       "    }\n",
       "\n",
       "    .dataframe tbody tr th {\n",
       "        vertical-align: top;\n",
       "    }\n",
       "\n",
       "    .dataframe thead th {\n",
       "        text-align: right;\n",
       "    }\n",
       "</style>\n",
       "<table border=\"1\" class=\"dataframe\">\n",
       "  <thead>\n",
       "    <tr style=\"text-align: right;\">\n",
       "      <th></th>\n",
       "      <th>ADRB2_LOW</th>\n",
       "      <th>ADRB2_HIGH</th>\n",
       "      <th>AGER_LOW</th>\n",
       "      <th>AGER_HIGH</th>\n",
       "      <th>RPL13AP17_LOW</th>\n",
       "      <th>RPL13AP17_HIGH</th>\n",
       "    </tr>\n",
       "  </thead>\n",
       "  <tbody>\n",
       "    <tr>\n",
       "      <th>0</th>\n",
       "      <td>5.252273</td>\n",
       "      <td>1.098612</td>\n",
       "      <td>6.842683</td>\n",
       "      <td>2.564949</td>\n",
       "      <td>2.302585</td>\n",
       "      <td>0.0</td>\n",
       "    </tr>\n",
       "    <tr>\n",
       "      <th>1</th>\n",
       "      <td>5.252273</td>\n",
       "      <td>1.098612</td>\n",
       "      <td>6.851185</td>\n",
       "      <td>3.178054</td>\n",
       "      <td>2.397895</td>\n",
       "      <td>0.0</td>\n",
       "    </tr>\n",
       "    <tr>\n",
       "      <th>2</th>\n",
       "      <td>5.252273</td>\n",
       "      <td>2.197225</td>\n",
       "      <td>6.858565</td>\n",
       "      <td>3.465736</td>\n",
       "      <td>2.397895</td>\n",
       "      <td>0.0</td>\n",
       "    </tr>\n",
       "    <tr>\n",
       "      <th>3</th>\n",
       "      <td>5.257495</td>\n",
       "      <td>2.484907</td>\n",
       "      <td>6.874198</td>\n",
       "      <td>3.526361</td>\n",
       "      <td>2.397895</td>\n",
       "      <td>0.0</td>\n",
       "    </tr>\n",
       "    <tr>\n",
       "      <th>4</th>\n",
       "      <td>5.267858</td>\n",
       "      <td>2.564949</td>\n",
       "      <td>6.889591</td>\n",
       "      <td>3.610918</td>\n",
       "      <td>2.397895</td>\n",
       "      <td>0.0</td>\n",
       "    </tr>\n",
       "  </tbody>\n",
       "</table>\n",
       "</div>"
      ],
      "text/plain": [
       "   ADRB2_LOW  ADRB2_HIGH  AGER_LOW  AGER_HIGH  RPL13AP17_LOW  RPL13AP17_HIGH\n",
       "0   5.252273    1.098612  6.842683   2.564949       2.302585             0.0\n",
       "1   5.252273    1.098612  6.851185   3.178054       2.397895             0.0\n",
       "2   5.252273    2.197225  6.858565   3.465736       2.397895             0.0\n",
       "3   5.257495    2.484907  6.874198   3.526361       2.397895             0.0\n",
       "4   5.267858    2.564949  6.889591   3.610918       2.397895             0.0"
      ]
     },
     "execution_count": 41,
     "metadata": {},
     "output_type": "execute_result"
    }
   ],
   "source": [
    "boxDown.head()"
   ]
  },
  {
   "cell_type": "code",
   "execution_count": null,
   "metadata": {},
   "outputs": [],
   "source": []
  },
  {
   "cell_type": "code",
   "execution_count": 23,
   "metadata": {},
   "outputs": [
    {
     "name": "stdout",
     "output_type": "stream",
     "text": [
      "(136, 4)\n",
      "行列信息 (414, 21)\n"
     ]
    }
   ],
   "source": [
    "# 整理森林图需要的数据\n",
    "forest = pd.read_csv('E:/cancerPrognosis/MyLUAD/code/processing/coxMult/COXgenes9.txt', sep=\"\\t\")\n",
    "print(forest.shape)\n",
    "# 原始数据读入\n",
    "lassoExp = pd.read_csv('E:/cancerPrognosis/MyLUAD/code/processing/lasso/lassoExp.txt', sep=\"\\t\")\n",
    "print(\"行列信息\",lassoExp.shape)"
   ]
  },
  {
   "cell_type": "code",
   "execution_count": 25,
   "metadata": {},
   "outputs": [],
   "source": [
    "gene = forest['Characteristics'].tolist()\n",
    "name = lassoExp.columns.tolist()[3:-1]\n",
    "dele = []\n",
    "for i in range(len(gene)):\n",
    "    if gene[i] not in name:\n",
    "        dele.append(i)"
   ]
  },
  {
   "cell_type": "code",
   "execution_count": 26,
   "metadata": {},
   "outputs": [
    {
     "data": {
      "text/plain": [
       "(17, 4)"
      ]
     },
     "execution_count": 26,
     "metadata": {},
     "output_type": "execute_result"
    }
   ],
   "source": [
    "forest.drop(labels=None, axis=0, index=dele, columns=None, level=None, inplace=True)\n",
    "forest.shape"
   ]
  },
  {
   "cell_type": "code",
   "execution_count": 27,
   "metadata": {},
   "outputs": [
    {
     "data": {
      "text/html": [
       "<div>\n",
       "<style scoped>\n",
       "    .dataframe tbody tr th:only-of-type {\n",
       "        vertical-align: middle;\n",
       "    }\n",
       "\n",
       "    .dataframe tbody tr th {\n",
       "        vertical-align: top;\n",
       "    }\n",
       "\n",
       "    .dataframe thead th {\n",
       "        text-align: right;\n",
       "    }\n",
       "</style>\n",
       "<table border=\"1\" class=\"dataframe\">\n",
       "  <thead>\n",
       "    <tr style=\"text-align: right;\">\n",
       "      <th></th>\n",
       "      <th>Characteristics</th>\n",
       "      <th>Hazard.Ratio</th>\n",
       "      <th>CI95</th>\n",
       "      <th>P.Value</th>\n",
       "    </tr>\n",
       "  </thead>\n",
       "  <tbody>\n",
       "    <tr>\n",
       "      <th>10</th>\n",
       "      <td>PTPRH</td>\n",
       "      <td>1.140</td>\n",
       "      <td>1.02-1.27</td>\n",
       "      <td>0.02</td>\n",
       "    </tr>\n",
       "    <tr>\n",
       "      <th>19</th>\n",
       "      <td>RHOV</td>\n",
       "      <td>1.242</td>\n",
       "      <td>1.08-1.43</td>\n",
       "      <td>0.00</td>\n",
       "    </tr>\n",
       "    <tr>\n",
       "      <th>23</th>\n",
       "      <td>COL1A1</td>\n",
       "      <td>1.142</td>\n",
       "      <td>0.98-1.33</td>\n",
       "      <td>0.09</td>\n",
       "    </tr>\n",
       "    <tr>\n",
       "      <th>28</th>\n",
       "      <td>KIF14</td>\n",
       "      <td>2.141</td>\n",
       "      <td>1.16-3.97</td>\n",
       "      <td>0.02</td>\n",
       "    </tr>\n",
       "    <tr>\n",
       "      <th>31</th>\n",
       "      <td>TNFSF11</td>\n",
       "      <td>1.115</td>\n",
       "      <td>0.99-1.25</td>\n",
       "      <td>0.06</td>\n",
       "    </tr>\n",
       "  </tbody>\n",
       "</table>\n",
       "</div>"
      ],
      "text/plain": [
       "   Characteristics  Hazard.Ratio       CI95  P.Value\n",
       "10           PTPRH         1.140  1.02-1.27     0.02\n",
       "19            RHOV         1.242  1.08-1.43     0.00\n",
       "23          COL1A1         1.142  0.98-1.33     0.09\n",
       "28           KIF14         2.141  1.16-3.97     0.02\n",
       "31         TNFSF11         1.115  0.99-1.25     0.06"
      ]
     },
     "execution_count": 27,
     "metadata": {},
     "output_type": "execute_result"
    }
   ],
   "source": [
    "forest.head()"
   ]
  },
  {
   "cell_type": "code",
   "execution_count": 36,
   "metadata": {},
   "outputs": [
    {
     "data": {
      "text/plain": [
       "'1.43'"
      ]
     },
     "execution_count": 36,
     "metadata": {},
     "output_type": "execute_result"
    }
   ],
   "source": [
    "forest['CI95'].tolist()[1].split('-')[1]"
   ]
  },
  {
   "cell_type": "code",
   "execution_count": 37,
   "metadata": {},
   "outputs": [],
   "source": [
    "low = []\n",
    "high = []\n",
    "for i in range(forest.shape[0]):\n",
    "    low.append(forest['CI95'].tolist()[i].split('-')[0])\n",
    "    high.append(forest['CI95'].tolist()[i].split('-')[1])"
   ]
  },
  {
   "cell_type": "code",
   "execution_count": 40,
   "metadata": {},
   "outputs": [
    {
     "name": "stdout",
     "output_type": "stream",
     "text": [
      "(17, 5)\n"
     ]
    }
   ],
   "source": [
    "forest['low'] = low\n",
    "forest['high'] = high\n",
    "forest.drop(labels=None, axis=1, index=None, columns='CI95', level=None, inplace=True)\n",
    "print(forest.shape)"
   ]
  },
  {
   "cell_type": "code",
   "execution_count": 41,
   "metadata": {},
   "outputs": [],
   "source": [
    "# 存储文件\n",
    "forest.to_csv('E:/cancerPrognosis/MyLUAD/code/processing/survival/forest.txt', sep='\\t', header=True, index=True)"
   ]
  },
  {
   "cell_type": "code",
   "execution_count": null,
   "metadata": {},
   "outputs": [],
   "source": []
  },
  {
   "cell_type": "code",
   "execution_count": null,
   "metadata": {},
   "outputs": [],
   "source": []
  },
  {
   "cell_type": "code",
   "execution_count": null,
   "metadata": {},
   "outputs": [],
   "source": []
  },
  {
   "cell_type": "code",
   "execution_count": 75,
   "metadata": {},
   "outputs": [
    {
     "name": "stdout",
     "output_type": "stream",
     "text": [
      "行列信息 (28585, 496)\n",
      "行列信息 (414, 21)\n"
     ]
    }
   ],
   "source": [
    "# 整理热图需要的数据\n",
    "Exp = pd.read_csv('E:/cancerPrognosis/MyLUAD/code/processing/normal_tumor.txt', sep=\"\\t\")\n",
    "print(\"行列信息\",Exp.shape)\n",
    "lassoExp = pd.read_csv('E:/cancerPrognosis/MyLUAD/code/processing/lasso/lassoExp.txt', sep=\"\\t\")\n",
    "print(\"行列信息\",lassoExp.shape)"
   ]
  },
  {
   "cell_type": "code",
   "execution_count": 76,
   "metadata": {},
   "outputs": [
    {
     "name": "stdout",
     "output_type": "stream",
     "text": [
      "28585\n",
      "17\n"
     ]
    }
   ],
   "source": [
    "gene = Exp['gene_name'].tolist()\n",
    "print(len(gene))\n",
    "name = lassoExp.columns.tolist()[3:-1]\n",
    "print(len(name))"
   ]
  },
  {
   "cell_type": "code",
   "execution_count": 77,
   "metadata": {},
   "outputs": [
    {
     "name": "stdout",
     "output_type": "stream",
     "text": [
      "28568\n"
     ]
    }
   ],
   "source": [
    "dele = []\n",
    "for i in range(len(gene)):\n",
    "    if gene[i] not in name:\n",
    "        dele.append(i)\n",
    "print(len(dele))"
   ]
  },
  {
   "cell_type": "code",
   "execution_count": 78,
   "metadata": {},
   "outputs": [],
   "source": [
    "Exp.drop(labels=None, axis=0, index=dele, columns=None, level=None, inplace=True)"
   ]
  },
  {
   "cell_type": "code",
   "execution_count": 79,
   "metadata": {},
   "outputs": [
    {
     "data": {
      "text/plain": [
       "(17, 496)"
      ]
     },
     "execution_count": 79,
     "metadata": {},
     "output_type": "execute_result"
    }
   ],
   "source": [
    "Exp.shape"
   ]
  },
  {
   "cell_type": "code",
   "execution_count": 82,
   "metadata": {},
   "outputs": [],
   "source": [
    "Exp.set_index('gene_name',inplace=True)"
   ]
  },
  {
   "cell_type": "code",
   "execution_count": 85,
   "metadata": {},
   "outputs": [
    {
     "name": "stdout",
     "output_type": "stream",
     "text": [
      "(17, 45)\n",
      "(17, 450)\n"
     ]
    }
   ],
   "source": [
    "nor = Exp.iloc[:,0:45]\n",
    "print(nor.shape)\n",
    "tur = Exp.iloc[:,45:]\n",
    "print(tur.shape)"
   ]
  },
  {
   "cell_type": "code",
   "execution_count": 87,
   "metadata": {},
   "outputs": [
    {
     "name": "stderr",
     "output_type": "stream",
     "text": [
      "D:\\StudySoft1\\Anaconda3\\Anaconda\\lib\\site-packages\\ipykernel_launcher.py:1: SettingWithCopyWarning: \n",
      "A value is trying to be set on a copy of a slice from a DataFrame.\n",
      "Try using .loc[row_indexer,col_indexer] = value instead\n",
      "\n",
      "See the caveats in the documentation: http://pandas.pydata.org/pandas-docs/stable/indexing.html#indexing-view-versus-copy\n",
      "  \"\"\"Entry point for launching an IPython kernel.\n"
     ]
    }
   ],
   "source": [
    "nor['mean'] = nor.mean(axis=1)"
   ]
  },
  {
   "cell_type": "code",
   "execution_count": 90,
   "metadata": {},
   "outputs": [
    {
     "name": "stderr",
     "output_type": "stream",
     "text": [
      "D:\\StudySoft1\\Anaconda3\\Anaconda\\lib\\site-packages\\ipykernel_launcher.py:1: SettingWithCopyWarning: \n",
      "A value is trying to be set on a copy of a slice from a DataFrame.\n",
      "Try using .loc[row_indexer,col_indexer] = value instead\n",
      "\n",
      "See the caveats in the documentation: http://pandas.pydata.org/pandas-docs/stable/indexing.html#indexing-view-versus-copy\n",
      "  \"\"\"Entry point for launching an IPython kernel.\n"
     ]
    }
   ],
   "source": [
    "tur['mean'] = tur.mean(axis=1)"
   ]
  },
  {
   "cell_type": "code",
   "execution_count": 91,
   "metadata": {},
   "outputs": [],
   "source": [
    "dat1 = nor['mean'].tolist()\n",
    "dat2 = tur['mean'].tolist()"
   ]
  },
  {
   "cell_type": "code",
   "execution_count": 96,
   "metadata": {},
   "outputs": [],
   "source": [
    "def min_max(x):\n",
    "    # x: numpy array\n",
    "    x = (x - np.min(x)) / (np.max(x) - np.min(x))\n",
    "    return x"
   ]
  },
  {
   "cell_type": "code",
   "execution_count": 97,
   "metadata": {},
   "outputs": [],
   "source": [
    "dat1 = min_max(dat1)\n",
    "dat2 = min_max(dat2)"
   ]
  },
  {
   "cell_type": "code",
   "execution_count": null,
   "metadata": {},
   "outputs": [],
   "source": []
  },
  {
   "cell_type": "code",
   "execution_count": 98,
   "metadata": {},
   "outputs": [],
   "source": [
    "ph = pd.DataFrame([dat1,dat2])"
   ]
  },
  {
   "cell_type": "code",
   "execution_count": 99,
   "metadata": {},
   "outputs": [],
   "source": [
    "pheatmap = ph.T\n",
    "pheatmap.columns = ['normal','tumor']"
   ]
  },
  {
   "cell_type": "code",
   "execution_count": 100,
   "metadata": {},
   "outputs": [
    {
     "data": {
      "text/html": [
       "<div>\n",
       "<style scoped>\n",
       "    .dataframe tbody tr th:only-of-type {\n",
       "        vertical-align: middle;\n",
       "    }\n",
       "\n",
       "    .dataframe tbody tr th {\n",
       "        vertical-align: top;\n",
       "    }\n",
       "\n",
       "    .dataframe thead th {\n",
       "        text-align: right;\n",
       "    }\n",
       "</style>\n",
       "<table border=\"1\" class=\"dataframe\">\n",
       "  <thead>\n",
       "    <tr style=\"text-align: right;\">\n",
       "      <th></th>\n",
       "      <th>normal</th>\n",
       "      <th>tumor</th>\n",
       "    </tr>\n",
       "  </thead>\n",
       "  <tbody>\n",
       "    <tr>\n",
       "      <th>0</th>\n",
       "      <td>0.086826</td>\n",
       "      <td>0.434368</td>\n",
       "    </tr>\n",
       "    <tr>\n",
       "      <th>1</th>\n",
       "      <td>0.253427</td>\n",
       "      <td>0.483098</td>\n",
       "    </tr>\n",
       "    <tr>\n",
       "      <th>2</th>\n",
       "      <td>0.782145</td>\n",
       "      <td>1.000000</td>\n",
       "    </tr>\n",
       "    <tr>\n",
       "      <th>3</th>\n",
       "      <td>0.165667</td>\n",
       "      <td>0.428529</td>\n",
       "    </tr>\n",
       "    <tr>\n",
       "      <th>4</th>\n",
       "      <td>0.000000</td>\n",
       "      <td>0.230792</td>\n",
       "    </tr>\n",
       "    <tr>\n",
       "      <th>5</th>\n",
       "      <td>0.304056</td>\n",
       "      <td>0.519801</td>\n",
       "    </tr>\n",
       "    <tr>\n",
       "      <th>6</th>\n",
       "      <td>0.154409</td>\n",
       "      <td>0.430332</td>\n",
       "    </tr>\n",
       "    <tr>\n",
       "      <th>7</th>\n",
       "      <td>0.195691</td>\n",
       "      <td>0.654461</td>\n",
       "    </tr>\n",
       "    <tr>\n",
       "      <th>8</th>\n",
       "      <td>0.472701</td>\n",
       "      <td>0.183057</td>\n",
       "    </tr>\n",
       "    <tr>\n",
       "      <th>9</th>\n",
       "      <td>0.513951</td>\n",
       "      <td>0.163762</td>\n",
       "    </tr>\n",
       "    <tr>\n",
       "      <th>10</th>\n",
       "      <td>0.382829</td>\n",
       "      <td>0.607382</td>\n",
       "    </tr>\n",
       "    <tr>\n",
       "      <th>11</th>\n",
       "      <td>0.590028</td>\n",
       "      <td>0.362228</td>\n",
       "    </tr>\n",
       "    <tr>\n",
       "      <th>12</th>\n",
       "      <td>0.207892</td>\n",
       "      <td>0.000000</td>\n",
       "    </tr>\n",
       "    <tr>\n",
       "      <th>13</th>\n",
       "      <td>0.044575</td>\n",
       "      <td>0.308137</td>\n",
       "    </tr>\n",
       "    <tr>\n",
       "      <th>14</th>\n",
       "      <td>1.000000</td>\n",
       "      <td>0.544608</td>\n",
       "    </tr>\n",
       "    <tr>\n",
       "      <th>15</th>\n",
       "      <td>0.466001</td>\n",
       "      <td>0.089652</td>\n",
       "    </tr>\n",
       "    <tr>\n",
       "      <th>16</th>\n",
       "      <td>0.034288</td>\n",
       "      <td>0.276960</td>\n",
       "    </tr>\n",
       "  </tbody>\n",
       "</table>\n",
       "</div>"
      ],
      "text/plain": [
       "      normal     tumor\n",
       "0   0.086826  0.434368\n",
       "1   0.253427  0.483098\n",
       "2   0.782145  1.000000\n",
       "3   0.165667  0.428529\n",
       "4   0.000000  0.230792\n",
       "5   0.304056  0.519801\n",
       "6   0.154409  0.430332\n",
       "7   0.195691  0.654461\n",
       "8   0.472701  0.183057\n",
       "9   0.513951  0.163762\n",
       "10  0.382829  0.607382\n",
       "11  0.590028  0.362228\n",
       "12  0.207892  0.000000\n",
       "13  0.044575  0.308137\n",
       "14  1.000000  0.544608\n",
       "15  0.466001  0.089652\n",
       "16  0.034288  0.276960"
      ]
     },
     "execution_count": 100,
     "metadata": {},
     "output_type": "execute_result"
    }
   ],
   "source": [
    "pheatmap"
   ]
  },
  {
   "cell_type": "code",
   "execution_count": null,
   "metadata": {},
   "outputs": [],
   "source": []
  },
  {
   "cell_type": "code",
   "execution_count": null,
   "metadata": {},
   "outputs": [],
   "source": []
  },
  {
   "cell_type": "code",
   "execution_count": 101,
   "metadata": {},
   "outputs": [],
   "source": []
  },
  {
   "cell_type": "code",
   "execution_count": null,
   "metadata": {},
   "outputs": [],
   "source": []
  },
  {
   "cell_type": "code",
   "execution_count": null,
   "metadata": {},
   "outputs": [],
   "source": []
  },
  {
   "cell_type": "code",
   "execution_count": null,
   "metadata": {},
   "outputs": [],
   "source": []
  },
  {
   "cell_type": "code",
   "execution_count": 53,
   "metadata": {},
   "outputs": [],
   "source": []
  },
  {
   "cell_type": "code",
   "execution_count": null,
   "metadata": {},
   "outputs": [],
   "source": []
  },
  {
   "cell_type": "code",
   "execution_count": null,
   "metadata": {},
   "outputs": [],
   "source": []
  },
  {
   "cell_type": "code",
   "execution_count": null,
   "metadata": {},
   "outputs": [],
   "source": []
  },
  {
   "cell_type": "code",
   "execution_count": null,
   "metadata": {},
   "outputs": [],
   "source": []
  },
  {
   "cell_type": "code",
   "execution_count": null,
   "metadata": {},
   "outputs": [],
   "source": []
  },
  {
   "cell_type": "code",
   "execution_count": null,
   "metadata": {},
   "outputs": [],
   "source": []
  }
 ],
 "metadata": {
  "kernelspec": {
   "display_name": "Python 3",
   "language": "python",
   "name": "python3"
  },
  "language_info": {
   "codemirror_mode": {
    "name": "ipython",
    "version": 3
   },
   "file_extension": ".py",
   "mimetype": "text/x-python",
   "name": "python",
   "nbconvert_exporter": "python",
   "pygments_lexer": "ipython3",
   "version": "3.7.3"
  }
 },
 "nbformat": 4,
 "nbformat_minor": 2
}
